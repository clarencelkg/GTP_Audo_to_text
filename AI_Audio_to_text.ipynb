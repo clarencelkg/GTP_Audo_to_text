{
 "cells": [
  {
   "cell_type": "code",
   "execution_count": 1,
   "id": "a0b151d6-640b-445c-a389-39f3fe9bab55",
   "metadata": {},
   "outputs": [],
   "source": [
    "import json\n",
    "import requests\n",
    "from IPython.display import display, Markdown\n",
    "import tiktoken\n",
    "import os"
   ]
  },
  {
   "cell_type": "code",
   "execution_count": 2,
   "id": "2cb37538-fb38-4e4f-b2ae-1f9906057a79",
   "metadata": {},
   "outputs": [],
   "source": [
    "api_key = \"sk-\"\n",
    "os.environ[\"OPENAI_API_KEY\"] = api_key"
   ]
  },
  {
   "cell_type": "code",
   "execution_count": 5,
   "id": "15098ee2-e4db-45a4-991e-1d78c639aeba",
   "metadata": {},
   "outputs": [],
   "source": [
    "from openai import OpenAI\n",
    "client = OpenAI()\n",
    "audio_file= open(\"Audio/NDP Key takeaways.mp3\", \"rb\")\n",
    "transcript = client.audio.transcriptions.create(\n",
    "  model=\"whisper-1\", \n",
    "  file=audio_file,\n",
    "  response_format=\"text\"\n",
    ")\n",
    "\n",
    "with open(\"Audio/Keynote_transcript.txt\", \"w\") as file:\n",
    "    file.write(transcript)\n"
   ]
  },
  {
   "cell_type": "code",
   "execution_count": 6,
   "id": "ebe88ea4-6d8e-40ad-ae85-c48b455fe91a",
   "metadata": {},
   "outputs": [
    {
     "name": "stdout",
     "output_type": "stream",
     "text": [
      "Processing 942 tokens\n"
     ]
    }
   ],
   "source": [
    "tokens_count = len(tiktoken.encoding_for_model('gpt-4o').encode(transcript))\n",
    "print(f'Processing {tokens_count} tokens')"
   ]
  },
  {
   "cell_type": "code",
   "execution_count": 7,
   "id": "5a6ca867-5350-407e-b6d1-ebad78702a28",
   "metadata": {},
   "outputs": [
    {
     "data": {
      "text/markdown": [
       "Absolutely! Here's a dynamic summary of the key points from Prime Minister Lawrence Wong's first National Day Rally:\n",
       "\n",
       "### Family-Friendly Initiatives:\n",
       "1. **Paternity Leave Extended**:\n",
       "   - From April 1, 2025, fathers will get four weeks of mandatory paternity leave (up from the current two weeks).\n",
       "   - **Shared Parental Leave Scheme**: Starting April 2026, parents can share up to 10 weeks of paid parental leave.\n",
       "   - Transition Phases: Six weeks from April 2025, then progressing to 10 weeks by April 2026. The government will fund these additional weeks.\n",
       "\n",
       "2. **Total Parental Leave**:\n",
       "   - Fathers: 4 weeks\n",
       "   - Mothers: 16 weeks\n",
       "   - Shared: 10 weeks\n",
       "   - Total: 30 weeks or 7.5 months of paid leave!\n",
       "\n",
       "### Public Housing Changes:\n",
       "3. **Priority Access for Singles**:\n",
       "   - From mid-next year, singles wanting to live near their parents will get priority access to BTO flats, previously reserved for married couples.\n",
       "\n",
       "4. **Enhanced CPF Housing Grant**:\n",
       "   - For lower-income first-time HDB flat buyers, the current cap of S$80,000 will be increased to make housing more affordable.\n",
       "\n",
       "### Education Reform:\n",
       "5. **Gifted Education Programme (GEP) Overhaul**:\n",
       "   - Decentralized approach: All primary schools will identify and nurture high-ability students within their institutions, allowing students to stay at their current schools.\n",
       "\n",
       "### Job Seeker Support:\n",
       "6. **SkillsFuture JobSeeker Support Scheme**:\n",
       "   - For retrenched or involuntarily unemployed workers, especially in lower and middle income groups.\n",
       "   - Provides up to S$6,000 in financial support over six months, coupled with training, career coaching, and job matching services.\n",
       "\n",
       "### Kallang Alive Masterplan:\n",
       "7. **Sport and Lifestyle Destination**:\n",
       "   - New indoor arena with an 18,000 capacity.\n",
       "   - Relocation of Team Singapore's sports school and national training centres to Kallang.\n",
       "   - Facilities for athletes and the public alike, catering to all skill levels from amateurs to professionals.\n",
       "\n",
       "### Shout-outs and Acknowledgements:\n",
       "8. **Paralympians and Olympians Recognized**:\n",
       "   - Special mention to athletes competing in the Paris Olympics, including bronze medalist Max Maeder.\n",
       "\n",
       "### Miscellaneous:\n",
       "9. **Expectations and Remarks**:\n",
       "   - PM Wong addressed some pre-rally expectations humorously, mentioning he didn’t bring his guitar despite enjoying playing it.\n",
       "\n",
       "For further details, watching the full speech or visiting the provided link is recommended!"
      ],
      "text/plain": [
       "<IPython.core.display.Markdown object>"
      ]
     },
     "metadata": {},
     "output_type": "display_data"
    }
   ],
   "source": [
    "response = client.chat.completions.create(\n",
    "  model=\"gpt-4o\",\n",
    "  messages=[\n",
    "    {\"role\": \"system\", \"content\": \"You are an expert at summarizing long videos, able to extract their key points and present them in a concise and energetic manner.\"},\n",
    "    {\"role\": \"user\", \"content\": f\"\"\"Can you summarize this transcript and extract the main points?\n",
    "     ```{transcript}```\"\"\"}\n",
    "  ]\n",
    ")\n",
    "\n",
    "summary = response.choices[0].message.content\n",
    "display(Markdown(summary))\n"
   ]
  },
  {
   "cell_type": "code",
   "execution_count": null,
   "id": "9f439b19-31b6-40db-98e9-ce9b622b86cb",
   "metadata": {},
   "outputs": [],
   "source": []
  }
 ],
 "metadata": {
  "kernelspec": {
   "display_name": "Python 3 (ipykernel)",
   "language": "python",
   "name": "python3"
  },
  "language_info": {
   "codemirror_mode": {
    "name": "ipython",
    "version": 3
   },
   "file_extension": ".py",
   "mimetype": "text/x-python",
   "name": "python",
   "nbconvert_exporter": "python",
   "pygments_lexer": "ipython3",
   "version": "3.11.7"
  }
 },
 "nbformat": 4,
 "nbformat_minor": 5
}
